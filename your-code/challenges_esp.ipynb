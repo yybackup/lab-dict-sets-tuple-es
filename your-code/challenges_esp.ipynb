{
 "cells": [
  {
   "cell_type": "markdown",
   "metadata": {},
   "source": [
    "## Desafío 1: Tuplas\n",
    "\n",
    "#### ¿Sabías que puedes crear tuplas con solo un elemento?\n",
    "\n",
    "**En la celda de abajo, define una variable `tup` con un único elemento `\"I\"`.**\n"
   ]
  },
  {
   "cell_type": "code",
   "execution_count": 1,
   "metadata": {},
   "outputs": [],
   "source": [
    "tup = (\"I\",)"
   ]
  },
  {
   "cell_type": "markdown",
   "metadata": {},
   "source": [
    "#### Imprime el tipo de `tup`.\n",
    "\n",
    "Asegúrate de que su tipo sea correcto (es decir, _tuple_ en lugar de _str_).\n"
   ]
  },
  {
   "cell_type": "code",
   "execution_count": null,
   "metadata": {},
   "outputs": [],
   "source": [
    "# Tu codígo aquí\n",
    "print(type(tup))"
   ]
  },
  {
   "cell_type": "markdown",
   "metadata": {},
   "source": [
    "#### Ahora intenta agregar los siguientes elementos a `tup`.\n",
    "\n",
    "¿Puedes hacerlo? Explica.\n",
    "\n",
    "```\n",
    "\"r\", \"o\", \"n\", \"h\", \"a\", \"c\", \"k',\n",
    "```\n"
   ]
  },
  {
   "cell_type": "code",
   "execution_count": 3,
   "metadata": {
    "scrolled": true
   },
   "outputs": [],
   "source": [
    "# Tu codígo aquí\n",
    "# Tu explicación aquí\n",
    "# Una tupla es inmutable"
   ]
  },
  {
   "cell_type": "markdown",
   "metadata": {},
   "source": [
    "#### ¿Qué tal si reasignas un nuevo valor a una tupla existente?\n",
    "\n",
    "Reasigna los siguientes elementos a `tup`. ¿Puedes hacerlo? Explica.\n",
    "\n",
    "```\n",
    "\"I\", \"r\", \"o\", \"n\", \"h\", \"a\", \"c\", \"k\"\n",
    "```\n"
   ]
  },
  {
   "cell_type": "code",
   "execution_count": 4,
   "metadata": {},
   "outputs": [],
   "source": [
    "# Tu codígo aquí\n",
    "tup = (\"I\", \"r\", \"o\", \"n\", \"h\", \"a\", \"c\", \"k\")"
   ]
  },
  {
   "cell_type": "markdown",
   "metadata": {},
   "source": [
    "#### Divide `tup` en `tup1` y `tup2` con 4 elementos en cada una.\n",
    "\n",
    "`tup1` debe ser `(\"I\", \"r\", \"o\", \"n\")` y `tup2` debe ser `(\"h\", \"a\", \"c\", \"k\")`.\n",
    "\n",
    "_Sugerencia: usa números de índice positivos para la asignación de `tup1` y números de índice negativos para la asignación de `tup2`. Los números de índice positivos cuentan desde el principio, mientras que los números de índice negativos cuentan desde el final de la secuencia._\n",
    "\n",
    "También imprime `tup1` y `tup2`.\n"
   ]
  },
  {
   "cell_type": "code",
   "execution_count": null,
   "metadata": {},
   "outputs": [],
   "source": [
    "# Tu codígo aquí\n",
    "[tup1, tup2] = [tup[:4], tup[4:]]\n",
    "print(tup1)\n",
    "print(tup2)"
   ]
  },
  {
   "cell_type": "markdown",
   "metadata": {},
   "source": [
    "#### Suma `tup1` y `tup2` en `tup3` usando el operador `+`.\n",
    "\n",
    "Luego imprime `tup3` y verifica si `tup3` es igual a `tup`.\n"
   ]
  },
  {
   "cell_type": "code",
   "execution_count": null,
   "metadata": {},
   "outputs": [],
   "source": [
    "# Tu codígo aquí\n",
    "tup3 = tup1 + tup2\n",
    "print(tup3)"
   ]
  },
  {
   "cell_type": "markdown",
   "metadata": {},
   "source": [
    "#### Cuenta el número de elementos en `tup1` y `tup2`. Luego suma los dos conteos y verifica si la suma es igual al número de elementos en `tup3`.\n"
   ]
  },
  {
   "cell_type": "code",
   "execution_count": null,
   "metadata": {},
   "outputs": [],
   "source": [
    "# Tu codígo aquí\n",
    "\n",
    "print(len(tup3) == (len(tup1) + len(tup2)))"
   ]
  },
  {
   "cell_type": "markdown",
   "metadata": {},
   "source": [
    "#### ¿Cuál es el número de índice de `\"h\"` en `tup3`?\n"
   ]
  },
  {
   "cell_type": "code",
   "execution_count": null,
   "metadata": {},
   "outputs": [],
   "source": [
    "# Tu codígo aquí\n",
    "\n",
    "print(tup.index(\"h\"))"
   ]
  },
  {
   "cell_type": "markdown",
   "metadata": {},
   "source": [
    "#### Ahora, usa un bucle FOR para verificar si cada letra en la siguiente lista está presente en `tup3`:\n",
    "\n",
    "```\n",
    "letters = [\"a\", \"b\", \"c\", \"d\", \"e\"]\n",
    "```\n",
    "\n",
    "Para cada letra que verifiques, imprime `True` si está presente en `tup3`, de lo contrario imprime `False`.\n",
    "\n",
    "_Sugerencia: solo necesitas hacer un bucle con `letters`. No necesitas hacer un bucle con `tup3` porque hay un operador de Python `in` que puedes usar. Consulta la [referencia](https://stackoverflow.com/questions/17920147/how-to-check-if-a-tuple-contains-an-element-in-python)._\n"
   ]
  },
  {
   "cell_type": "code",
   "execution_count": null,
   "metadata": {},
   "outputs": [],
   "source": [
    "# Tu codígo aquí\n",
    "letters = [\"a\", \"b\", \"c\", \"d\", \"e\"]\n",
    "\n",
    "for i in letters:\n",
    "    print(i in tup3)"
   ]
  },
  {
   "cell_type": "code",
   "execution_count": 10,
   "metadata": {},
   "outputs": [],
   "source": [
    "# Tu codígo aquí"
   ]
  },
  {
   "cell_type": "markdown",
   "metadata": {},
   "source": [
    "#### ¿Cuántas veces aparece cada letra de `letters` en `tup3`?\n",
    "\n",
    "Imprime el número de ocurrencias de cada letra.\n"
   ]
  },
  {
   "cell_type": "code",
   "execution_count": null,
   "metadata": {},
   "outputs": [],
   "source": [
    "# Tu codígo aquí\n",
    "print(sum(1 for i in letters if i in tup3))"
   ]
  },
  {
   "cell_type": "markdown",
   "metadata": {},
   "source": [
    "## Desafío 2: Conjuntos\n",
    "\n",
    "Hay mucho que aprender sobre los Conjuntos en Python y la información presentada en la lección es limitada debido a su longitud. Para aprender a fondo sobre los Conjuntos en Python, te recomendamos encarecidamente que revises el tutorial de W3Schools sobre [Ejemplos y Métodos de Conjuntos en Python](https://www.w3schools.com/python/python_sets.asp) antes de trabajar en este laboratorio. Algunas preguntas difíciles de este laboratorio tienen sus soluciones en el tutorial de W3Schools.\n",
    "\n",
    "#### Primero, importa la biblioteca `random` de Python.\n"
   ]
  },
  {
   "cell_type": "code",
   "execution_count": 12,
   "metadata": {},
   "outputs": [],
   "source": [
    "import random"
   ]
  },
  {
   "cell_type": "markdown",
   "metadata": {},
   "source": [
    "#### En la celda de abajo, crea una lista llamada `sample_list_1` con 80 valores aleatorios.\n",
    "\n",
    "Requisitos:\n",
    "\n",
    "-   Cada valor es un entero entre 0 y 100.\n",
    "-   Cada valor en la lista es único.\n",
    "\n",
    "Imprime `sample_list_1` para revisar sus valores.\n",
    "\n",
    "_Sugerencia: usa `random.sample` ([referencia](https://docs.python.org/3/library/random.html#random.sample))._\n"
   ]
  },
  {
   "cell_type": "code",
   "execution_count": null,
   "metadata": {},
   "outputs": [],
   "source": [
    "# tu codigo aquí\n",
    "\n",
    "\n",
    "sample_list_1 = random.sample(range(0, 101), 80)\n",
    "print(sample_list_1)"
   ]
  },
  {
   "cell_type": "markdown",
   "metadata": {},
   "source": [
    "#### Convierte `sample_list_1` en un conjunto llamado `set1`. Imprime la longitud del conjunto. ¿Su longitud sigue siendo 80?\n"
   ]
  },
  {
   "cell_type": "code",
   "execution_count": null,
   "metadata": {},
   "outputs": [],
   "source": [
    "# tu codigo aquí\n",
    "set1 = set(sample_list_1)\n",
    "print(len(set1))"
   ]
  },
  {
   "cell_type": "markdown",
   "metadata": {},
   "source": [
    "#### Crea otra lista llamada `sample_list_2` con 80 valores aleatorios.\n",
    "\n",
    "Requisitos:\n",
    "\n",
    "-   Cada valor es un entero entre 0 y 100.\n",
    "-   Los valores en la lista no tienen que ser únicos.\n",
    "\n",
    "_Sugerencia: Usa un bucle FOR._\n"
   ]
  },
  {
   "cell_type": "code",
   "execution_count": null,
   "metadata": {},
   "outputs": [],
   "source": [
    "# tu codigo aquí\n",
    "sample_list_2 = []\n",
    "\n",
    "for _ in range(80):\n",
    "    sample_list_2.append(random.randint(0, 100))\n",
    "\n",
    "print(sample_list_2)"
   ]
  },
  {
   "cell_type": "markdown",
   "metadata": {},
   "source": [
    "#### Convierte `sample_list_2` en un conjunto llamado `set2`. Imprime la longitud del conjunto. ¿Su longitud sigue siendo 80?\n"
   ]
  },
  {
   "cell_type": "code",
   "execution_count": null,
   "metadata": {},
   "outputs": [],
   "source": [
    "# tu codigo aquí\n",
    "set2 = set(sample_list_2)\n",
    "print(len(set2))"
   ]
  },
  {
   "cell_type": "markdown",
   "metadata": {},
   "source": [
    "#### Identifica los elementos presentes en `set1` pero no en `set2`. Asigna los elementos a un nuevo conjunto llamado `set3`.\n"
   ]
  },
  {
   "cell_type": "code",
   "execution_count": null,
   "metadata": {},
   "outputs": [],
   "source": [
    "# tu codigo aquí\n",
    "set3 = set()\n",
    "for i in set1:\n",
    "    if i not in set2:\n",
    "        set3.add(i)\n",
    "\n",
    "print(set3)"
   ]
  },
  {
   "cell_type": "markdown",
   "metadata": {},
   "source": [
    "#### Identifica los elementos presentes en `set2` pero no en `set1`. Asigna los elementos a un nuevo conjunto llamado `set4`.\n"
   ]
  },
  {
   "cell_type": "code",
   "execution_count": null,
   "metadata": {},
   "outputs": [],
   "source": [
    "# tu codigo aquí\n",
    "set4 = set()\n",
    "for i in set2:\n",
    "    if i not in set1:\n",
    "        set4.add(i)\n",
    "\n",
    "print(set4)"
   ]
  },
  {
   "cell_type": "markdown",
   "metadata": {},
   "source": [
    "#### Ahora identifica los elementos compartidos entre `set1` y `set2`. Asigna los elementos a un nuevo conjunto llamado `set5`.\n"
   ]
  },
  {
   "cell_type": "code",
   "execution_count": null,
   "metadata": {},
   "outputs": [],
   "source": [
    "# tu codigo aquí\n",
    "set5 = set()\n",
    "\n",
    "for i in set1:\n",
    "    if i in set2:\n",
    "        set5.add(i)\n",
    "\n",
    "print(set5)"
   ]
  },
  {
   "cell_type": "markdown",
   "metadata": {},
   "source": [
    "#### ¿Cuál es la relación entre los siguientes valores?\n",
    "\n",
    "-   len(set1)\n",
    "-   len(set2)\n",
    "-   len(set3)\n",
    "-   len(set4)\n",
    "-   len(set5)\n",
    "\n",
    "Usa una fórmula matemática para representar esa relación. Prueba tu fórmula con código Python.\n"
   ]
  },
  {
   "cell_type": "code",
   "execution_count": null,
   "metadata": {},
   "outputs": [],
   "source": [
    "# tu codigo aquí\n",
    "print(len(set2) == len(set4) + len(set5))"
   ]
  },
  {
   "cell_type": "markdown",
   "metadata": {},
   "source": [
    "#### Crea un conjunto vacío llamado `set6`.\n"
   ]
  },
  {
   "cell_type": "code",
   "execution_count": 32,
   "metadata": {},
   "outputs": [],
   "source": [
    "# tu codigo aquí\n",
    "set6 = set()"
   ]
  },
  {
   "cell_type": "markdown",
   "metadata": {},
   "source": [
    "#### Añade `set3` y `set5` a `set6` usando el método `update` de los Conjuntos de Python.\n"
   ]
  },
  {
   "cell_type": "code",
   "execution_count": null,
   "metadata": {},
   "outputs": [],
   "source": [
    "# tu codigo aquí\n",
    "# Crea un conjunto vacío\n",
    "set6.update(set3, set5)\n",
    "print(set6)"
   ]
  },
  {
   "cell_type": "markdown",
   "metadata": {},
   "source": [
    "#### Verifica si `set1` y `set6` son iguales.\n"
   ]
  },
  {
   "cell_type": "code",
   "execution_count": null,
   "metadata": {},
   "outputs": [],
   "source": [
    "# tu codigo aquí\n",
    "print(set1 == set6)"
   ]
  },
  {
   "cell_type": "markdown",
   "metadata": {},
   "source": [
    "#### Comprueba si `set1` contiene a `set2` utilizando el método `issubset` de los Conjuntos de Python. Luego verifica si `set1` contiene a `set3`.\n"
   ]
  },
  {
   "cell_type": "code",
   "execution_count": null,
   "metadata": {},
   "outputs": [],
   "source": [
    "# tu codigo aquí\n",
    "print(set2.issubset(set1))\n",
    "print(set3.issubset(set1))"
   ]
  },
  {
   "cell_type": "markdown",
   "metadata": {},
   "source": [
    "#### Utilizando el método `union` de los Conjuntos de Python, agrega `set3`, `set4` y `set5`. Luego agrega `set1` y `set2`.\n",
    "\n",
    "#### Verifica si los valores agregados son iguales.\n"
   ]
  },
  {
   "cell_type": "code",
   "execution_count": null,
   "metadata": {},
   "outputs": [],
   "source": [
    "# tu codigo aquí\n",
    "print(set1.union(set2) == set3.union(set4).union(set5))"
   ]
  },
  {
   "cell_type": "markdown",
   "metadata": {},
   "source": [
    "#### Utilizando el método `pop`, elimina el primer elemento de `set1`.\n"
   ]
  },
  {
   "cell_type": "code",
   "execution_count": null,
   "metadata": {},
   "outputs": [],
   "source": [
    "# tu codigo aquí\n",
    "set1Copy = set1.copy()\n",
    "set1Copy.pop()\n",
    "print(set1Copy)\n"
   ]
  },
  {
   "cell_type": "markdown",
   "metadata": {},
   "source": [
    "#### Elimina cada elemento en la siguiente lista de `set1` si están presentes en el conjunto. Imprime los elementos restantes.\n",
    "\n",
    "```\n",
    "list_to_remove = [1, 9, 11, 19, 21, 29, 31, 39, 41, 49, 51, 59, 61, 69, 71, 79, 81, 89, 91, 99]\n",
    "```\n"
   ]
  },
  {
   "cell_type": "code",
   "execution_count": null,
   "metadata": {},
   "outputs": [],
   "source": [
    "# tu codigo aquí\n",
    "list_to_remove = [\n",
    "    1,\n",
    "    9,\n",
    "    11,\n",
    "    19,\n",
    "    21,\n",
    "    29,\n",
    "    31,\n",
    "    39,\n",
    "    41,\n",
    "    49,\n",
    "    51,\n",
    "    59,\n",
    "    61,\n",
    "    69,\n",
    "    71,\n",
    "    79,\n",
    "    81,\n",
    "    89,\n",
    "    91,\n",
    "    99,\n",
    "]\n",
    "\n",
    "for i in list_to_remove:\n",
    "    if i in set1:\n",
    "        set1.remove(i)\n",
    "\n",
    "print(set1)"
   ]
  },
  {
   "cell_type": "markdown",
   "metadata": {},
   "source": [
    "## BONUS - Desafío 3: Diccionarios\n",
    "\n",
    "En este desafío practicarás cómo manipular diccionarios en Python. Antes de empezar este desafío, te animamos a revisar los [Ejemplos y Métodos de Diccionarios en Python](https://www.w3schools.com/python/python_dictionaries.asp) de W3School.\n",
    "\n",
    "Lo primero que practicarás es cómo ordenar las claves en un diccionario. A diferencia del objeto de lista, el diccionario de Python no tiene un método _sort_ incorporado. Necesitarás usar bucles FOR para ordenar los diccionarios ya sea por clave o por valor.\n",
    "\n",
    "El diccionario a continuación es un resumen de la frecuencia de palabras de la canción _Shape of You_ de Ed Sheeran. Cada clave es una palabra en la letra y el valor es el número de veces que esa palabra aparece en la letra.\n"
   ]
  },
  {
   "cell_type": "code",
   "execution_count": 39,
   "metadata": {},
   "outputs": [],
   "source": [
    "word_freq: dict[str, int] = {\n",
    "    \"love\": 25,\n",
    "    \"conversation\": 1,\n",
    "    \"every\": 6,\n",
    "    \"we're\": 1,\n",
    "    \"plate\": 1,\n",
    "    \"sour\": 1,\n",
    "    \"jukebox\": 1,\n",
    "    \"now\": 11,\n",
    "    \"taxi\": 1,\n",
    "    \"fast\": 1,\n",
    "    \"bag\": 1,\n",
    "    \"man\": 1,\n",
    "    \"push\": 3,\n",
    "    \"baby\": 14,\n",
    "    \"going\": 1,\n",
    "    \"you\": 16,\n",
    "    \"don't\": 2,\n",
    "    \"one\": 1,\n",
    "    \"mind\": 2,\n",
    "    \"backseat\": 1,\n",
    "    \"friends\": 1,\n",
    "    \"then\": 3,\n",
    "    \"know\": 2,\n",
    "    \"take\": 1,\n",
    "    \"play\": 1,\n",
    "    \"okay\": 1,\n",
    "    \"so\": 2,\n",
    "    \"begin\": 1,\n",
    "    \"start\": 2,\n",
    "    \"over\": 1,\n",
    "    \"body\": 17,\n",
    "    \"boy\": 2,\n",
    "    \"just\": 1,\n",
    "    \"we\": 7,\n",
    "    \"are\": 1,\n",
    "    \"girl\": 2,\n",
    "    \"tell\": 1,\n",
    "    \"singing\": 2,\n",
    "    \"drinking\": 1,\n",
    "    \"put\": 3,\n",
    "    \"our\": 1,\n",
    "    \"where\": 1,\n",
    "    \"i'll\": 1,\n",
    "    \"all\": 1,\n",
    "    \"isn't\": 1,\n",
    "    \"make\": 1,\n",
    "    \"lover\": 1,\n",
    "    \"get\": 1,\n",
    "    \"radio\": 1,\n",
    "    \"give\": 1,\n",
    "    \"i'm\": 23,\n",
    "    \"like\": 10,\n",
    "    \"can\": 1,\n",
    "    \"doing\": 2,\n",
    "    \"with\": 22,\n",
    "    \"club\": 1,\n",
    "    \"come\": 37,\n",
    "    \"it\": 1,\n",
    "    \"somebody\": 2,\n",
    "    \"handmade\": 2,\n",
    "    \"out\": 1,\n",
    "    \"new\": 6,\n",
    "    \"room\": 3,\n",
    "    \"chance\": 1,\n",
    "    \"follow\": 6,\n",
    "    \"in\": 27,\n",
    "    \"may\": 2,\n",
    "    \"brand\": 6,\n",
    "    \"that\": 2,\n",
    "    \"magnet\": 3,\n",
    "    \"up\": 3,\n",
    "    \"first\": 1,\n",
    "    \"and\": 23,\n",
    "    \"pull\": 3,\n",
    "    \"of\": 6,\n",
    "    \"table\": 1,\n",
    "    \"much\": 2,\n",
    "    \"last\": 3,\n",
    "    \"i\": 6,\n",
    "    \"thrifty\": 1,\n",
    "    \"grab\": 2,\n",
    "    \"was\": 2,\n",
    "    \"driver\": 1,\n",
    "    \"slow\": 1,\n",
    "    \"dance\": 1,\n",
    "    \"the\": 18,\n",
    "    \"say\": 2,\n",
    "    \"trust\": 1,\n",
    "    \"family\": 1,\n",
    "    \"week\": 1,\n",
    "    \"date\": 1,\n",
    "    \"me\": 10,\n",
    "    \"do\": 3,\n",
    "    \"waist\": 2,\n",
    "    \"smell\": 3,\n",
    "    \"day\": 6,\n",
    "    \"although\": 3,\n",
    "    \"your\": 21,\n",
    "    \"leave\": 1,\n",
    "    \"want\": 2,\n",
    "    \"let's\": 2,\n",
    "    \"lead\": 6,\n",
    "    \"at\": 1,\n",
    "    \"hand\": 1,\n",
    "    \"how\": 1,\n",
    "    \"talk\": 4,\n",
    "    \"not\": 2,\n",
    "    \"eat\": 1,\n",
    "    \"falling\": 3,\n",
    "    \"about\": 1,\n",
    "    \"story\": 1,\n",
    "    \"sweet\": 1,\n",
    "    \"best\": 1,\n",
    "    \"crazy\": 2,\n",
    "    \"let\": 1,\n",
    "    \"too\": 5,\n",
    "    \"van\": 1,\n",
    "    \"shots\": 1,\n",
    "    \"go\": 2,\n",
    "    \"to\": 2,\n",
    "    \"a\": 8,\n",
    "    \"my\": 33,\n",
    "    \"is\": 5,\n",
    "    \"place\": 1,\n",
    "    \"find\": 1,\n",
    "    \"shape\": 6,\n",
    "    \"on\": 40,\n",
    "    \"kiss\": 1,\n",
    "    \"were\": 3,\n",
    "    \"night\": 3,\n",
    "    \"heart\": 3,\n",
    "    \"for\": 3,\n",
    "    \"discovering\": 6,\n",
    "    \"something\": 6,\n",
    "    \"be\": 16,\n",
    "    \"bedsheets\": 3,\n",
    "    \"fill\": 2,\n",
    "    \"hours\": 2,\n",
    "    \"stop\": 1,\n",
    "    \"bar\": 1,\n",
    "}"
   ]
  },
  {
   "cell_type": "markdown",
   "metadata": {},
   "source": [
    "#### Ordena las claves de `word_freq` de forma ascendente.\n",
    "\n",
    "Por favor, crea un nuevo diccionario llamado `word_freq2` basado en `word_freq` con las claves ordenadas de forma ascendente.\n",
    "\n",
    "Hay varias formas de lograr ese objetivo, pero muchas de ellas van más allá de lo que hemos cubierto hasta ahora en el curso. Hay una forma que describiremos empleando lo que has aprendido. Por favor, siéntete libre de usar esta forma o cualquier otra que desees.\n",
    "\n",
    "1. Primero extrae las claves de `word_freq` y conviértelas en una lista llamada `keys`.\n",
    "\n",
    "1. Ordena la lista `keys`.\n",
    "\n",
    "1. Crea un diccionario vacío `word_freq2`.\n",
    "\n",
    "1. Usa un bucle FOR para iterar cada valor en `keys`. Para cada clave iterada, encuentra el valor correspondiente en `word_freq` e inserta el par clave-valor en `word_freq2`.\n",
    "\n",
    "📖 [Documentación para un bucle for](https://docs.python.org/3/reference/compound_stmts.html#for)\n",
    "\n",
    "Imprime `word_freq2` para examinar sus claves y valores. Tu salida debería ser:\n",
    "\n",
    "```python\n",
    "{'a': 8, 'about': 1, 'all': 1, 'although': 3, 'and': 23, 'are': 1, 'at': 1, 'baby': 14, 'backseat': 1, 'bag': 1, 'bar': 1, 'be': 16, 'bedsheets': 3, 'begin': 1, 'best': 1, 'body': 17, 'boy': 2, 'brand': 6, 'can': 1, 'chance': 1, 'club': 1, 'come': 37, 'conversation': 1, 'crazy': 2, 'dance': 1, 'date': 1, 'day': 6, 'discovering': 6, 'do': 3, 'doing': 2, \"don't\": 2, 'drinking': 1, 'driver': 1, 'eat': 1, 'every': 6, 'falling': 3, 'family': 1, 'fast': 1, 'fill': 2, 'find': 1, 'first': 1, 'follow': 6, 'for': 3, 'friends': 1, 'get': 1, 'girl': 2, 'give': 1, 'go': 2, 'going': 1, 'grab': 2, 'hand': 1, 'handmade': 2, 'heart': 3, 'hours': 2, 'how': 1, 'i': 6, \"i'll\": 1, \"i'm\": 23, 'in': 27, 'is': 5, \"isn't\": 1, 'it': 1, 'jukebox': 1, 'just': 1, 'kiss': 1, 'know': 2, 'last': 3, 'lead': 6, 'leave': 1, 'let': 1, \"let's\": 2, 'like': 10, 'love': 25, 'lover': 1, 'magnet': 3, 'make': 1, 'man': 1, 'may': 2, 'me': 10, 'mind': 2, 'much': 2, 'my': 33, 'new': 6, 'night': 3, 'not': 2, 'now': 11, 'of': 6, 'okay': 1, 'on': 40, 'one': 1, 'our': 1, 'out': 1, 'over': 1, 'place': 1, 'plate': 1, 'play': 1, 'pull': 3, 'push': 3, 'put': 3, 'radio': 1, 'room': 3, 'say': 2, 'shape': 6, 'shots': 1, 'singing': 2, 'slow': 1, 'smell': 3, 'so': 2, 'somebody': 2, 'something': 6, 'sour': 1, 'start': 2, 'stop': 1, 'story': 1, 'sweet': 1, 'table': 1, 'take': 1, 'talk': 4, 'taxi': 1, 'tell': 1, 'that': 2, 'the': 18, 'then': 3, 'thrifty': 1, 'to': 2, 'too': 5, 'trust': 1, 'up': 3, 'van': 1, 'waist': 2, 'want': 2, 'was': 2, 'we': 7, \"we're\": 1, 'week': 1, 'were': 3, 'where': 1, 'with': 22, 'you': 16, 'your': 21}\n",
    "```\n"
   ]
  },
  {
   "cell_type": "code",
   "execution_count": null,
   "metadata": {},
   "outputs": [],
   "source": [
    "# Tu codigo aquí\n",
    "keys = list(dict.keys(word_freq))\n",
    "\n",
    "keys.sort()\n",
    "\n",
    "word_freq2: dict = {}\n",
    "\n",
    "\n",
    "for key in keys:\n",
    "    word_freq2[key] = word_freq[key]\n",
    "\n",
    "print(word_freq2)"
   ]
  },
  {
   "cell_type": "markdown",
   "metadata": {},
   "source": [
    "#### Ordena los valores de `word_freq` de forma ascendente.\n",
    "\n",
    "Ordenar los valores de un diccionario es más complicado que ordenar las claves porque los valores de un diccionario no son únicos. Por lo tanto, no puedes usar la misma forma en que ordenaste las claves del diccionario para ordenar los valores del diccionario.\n",
    "\n",
    "La forma de ordenar un diccionario por valor es utilizar las funciones `sorted` y `operator.itemgetter`. El siguiente fragmento de código se te proporciona para que lo pruebes. Te dará una lista de tuplas en la que cada tupla contiene la clave y el valor de un elemento del diccionario. Y la lista está ordenada basada en el valor del diccionario ( [referencia](http://thomas-cokelaer.info/blog/2017/12/how-to-sort-a-dictionary-by-values-in-python/)\n",
    ").\n",
    "\n",
    "```python\n",
    "import operator\n",
    "sorted_tups = sorted(word_freq.items(), key=operator.itemgetter(1))\n",
    "print(sorted_tups)\n",
    "```\n",
    "\n",
    "Por lo tanto, los pasos para ordenar `word_freq` por valor son:\n",
    "\n",
    "-   Utilizando `sorted` y `operator.itemgetter`, obtén una lista de tuplas de los pares clave-valor del diccionario que está ordenada por el valor.\n",
    "\n",
    "-   Crea un diccionario vacío llamado `word_freq2`.\n",
    "\n",
    "-   Itera la lista de tuplas. Inserta cada par clave-valor en `word_freq2` como un objeto.\n",
    "\n",
    "Imprime `word_freq2` para confirmar que tu diccionario tiene sus valores ordenados. Tu salida debería ser:\n",
    "\n",
    "```python\n",
    "{'conversation': 1, \"we're\": 1, 'plate': 1, 'sour': 1, 'jukebox': 1, 'taxi': 1, 'fast': 1, 'bag': 1, 'man': 1, 'going': 1, 'one': 1, 'backseat': 1, 'friends': 1, 'take': 1, 'play': 1, 'okay': 1, 'begin': 1, 'over': 1, 'just': 1, 'are': 1, 'tell': 1, 'drinking': 1, 'our': 1, 'where': 1, \"i'll\": 1, 'all': 1, \"isn't\": 1, 'make': 1, 'lover': 1, 'get': 1, 'radio': 1, 'give': 1, 'can': 1, 'club': 1, 'it': 1, 'out': 1, 'chance': 1, 'first': 1, 'table': 1, 'thrifty': 1, 'driver': 1, 'slow': 1, 'dance': 1, 'trust': 1, 'family': 1, 'week': 1, 'date': 1, 'leave': 1, 'at': 1, 'hand': 1, 'how': 1, 'eat': 1, 'about': 1, 'story': 1, 'sweet': 1, 'best': 1, 'let': 1, 'van': 1, 'shots': 1, 'place': 1, 'find': 1, 'kiss': 1, 'stop': 1, 'bar': 1, \"don't\": 2, 'mind': 2, 'know': 2, 'so': 2, 'start': 2, 'boy': 2, 'girl': 2, 'singing': 2, 'doing': 2, 'somebody': 2, 'handmade': 2, 'may': 2, 'that': 2, 'much': 2, 'grab': 2, 'was': 2, 'say': 2, 'waist': 2, 'want': 2, \"let's\": 2, 'not': 2, 'crazy': 2, 'go': 2, 'to': 2, 'fill': 2, 'hours': 2, 'push': 3, 'then': 3, 'put': 3, 'room': 3, 'magnet': 3, 'up': 3, 'pull': 3, 'last': 3, 'do': 3, 'smell': 3, 'although': 3, 'falling': 3, 'were': 3, 'night': 3, 'heart': 3, 'for': 3, 'bedsheets': 3, 'talk': 4, 'too': 5, 'is': 5, 'every': 6, 'new': 6, 'follow': 6, 'brand': 6, 'of': 6, 'i': 6, 'day': 6, 'lead': 6, 'shape': 6, 'discovering': 6, 'something': 6, 'we': 7, 'a': 8, 'like': 10, 'me': 10, 'now': 11, 'baby': 14, 'you': 16, 'be': 16, 'body': 17, 'the': 18, 'your': 21, 'with': 22, \"i'm\": 23, 'and': 23, 'love': 25, 'in': 27, 'my': 33, 'come': 37, 'on': 40}\n",
    "```\n"
   ]
  },
  {
   "cell_type": "code",
   "execution_count": null,
   "metadata": {},
   "outputs": [],
   "source": [
    "# tu codigo aquí\n",
    "import operator\n",
    "\n",
    "word_freq: dict[str, int] = {\n",
    "    \"love\": 25,\n",
    "    \"conversation\": 1,\n",
    "    \"every\": 6,\n",
    "    \"we're\": 1,\n",
    "    \"plate\": 1,\n",
    "    \"sour\": 1,\n",
    "    \"jukebox\": 1,\n",
    "    \"now\": 11,\n",
    "    \"taxi\": 1,\n",
    "    \"fast\": 1,\n",
    "    \"bag\": 1,\n",
    "    \"man\": 1,\n",
    "    \"push\": 3,\n",
    "    \"baby\": 14,\n",
    "    \"going\": 1,\n",
    "    \"you\": 16,\n",
    "    \"don't\": 2,\n",
    "    \"one\": 1,\n",
    "    \"mind\": 2,\n",
    "    \"backseat\": 1,\n",
    "    \"friends\": 1,\n",
    "    \"then\": 3,\n",
    "    \"know\": 2,\n",
    "    \"take\": 1,\n",
    "    \"play\": 1,\n",
    "    \"okay\": 1,\n",
    "    \"so\": 2,\n",
    "    \"begin\": 1,\n",
    "    \"start\": 2,\n",
    "    \"over\": 1,\n",
    "    \"body\": 17,\n",
    "    \"boy\": 2,\n",
    "    \"just\": 1,\n",
    "    \"we\": 7,\n",
    "    \"are\": 1,\n",
    "    \"girl\": 2,\n",
    "    \"tell\": 1,\n",
    "    \"singing\": 2,\n",
    "    \"drinking\": 1,\n",
    "    \"put\": 3,\n",
    "    \"our\": 1,\n",
    "    \"where\": 1,\n",
    "    \"i'll\": 1,\n",
    "    \"all\": 1,\n",
    "    \"isn't\": 1,\n",
    "    \"make\": 1,\n",
    "    \"lover\": 1,\n",
    "    \"get\": 1,\n",
    "    \"radio\": 1,\n",
    "    \"give\": 1,\n",
    "    \"i'm\": 23,\n",
    "    \"like\": 10,\n",
    "    \"can\": 1,\n",
    "    \"doing\": 2,\n",
    "    \"with\": 22,\n",
    "    \"club\": 1,\n",
    "    \"come\": 37,\n",
    "    \"it\": 1,\n",
    "    \"somebody\": 2,\n",
    "    \"handmade\": 2,\n",
    "    \"out\": 1,\n",
    "    \"new\": 6,\n",
    "    \"room\": 3,\n",
    "    \"chance\": 1,\n",
    "    \"follow\": 6,\n",
    "    \"in\": 27,\n",
    "    \"may\": 2,\n",
    "    \"brand\": 6,\n",
    "    \"that\": 2,\n",
    "    \"magnet\": 3,\n",
    "    \"up\": 3,\n",
    "    \"first\": 1,\n",
    "    \"and\": 23,\n",
    "    \"pull\": 3,\n",
    "    \"of\": 6,\n",
    "    \"table\": 1,\n",
    "    \"much\": 2,\n",
    "    \"last\": 3,\n",
    "    \"i\": 6,\n",
    "    \"thrifty\": 1,\n",
    "    \"grab\": 2,\n",
    "    \"was\": 2,\n",
    "    \"driver\": 1,\n",
    "    \"slow\": 1,\n",
    "    \"dance\": 1,\n",
    "    \"the\": 18,\n",
    "    \"say\": 2,\n",
    "    \"trust\": 1,\n",
    "    \"family\": 1,\n",
    "    \"week\": 1,\n",
    "    \"date\": 1,\n",
    "    \"me\": 10,\n",
    "    \"do\": 3,\n",
    "    \"waist\": 2,\n",
    "    \"smell\": 3,\n",
    "    \"day\": 6,\n",
    "    \"although\": 3,\n",
    "    \"your\": 21,\n",
    "    \"leave\": 1,\n",
    "    \"want\": 2,\n",
    "    \"let's\": 2,\n",
    "    \"lead\": 6,\n",
    "    \"at\": 1,\n",
    "    \"hand\": 1,\n",
    "    \"how\": 1,\n",
    "    \"talk\": 4,\n",
    "    \"not\": 2,\n",
    "    \"eat\": 1,\n",
    "    \"falling\": 3,\n",
    "    \"about\": 1,\n",
    "    \"story\": 1,\n",
    "    \"sweet\": 1,\n",
    "    \"best\": 1,\n",
    "    \"crazy\": 2,\n",
    "    \"let\": 1,\n",
    "    \"too\": 5,\n",
    "    \"van\": 1,\n",
    "    \"shots\": 1,\n",
    "    \"go\": 2,\n",
    "    \"to\": 2,\n",
    "    \"a\": 8,\n",
    "    \"my\": 33,\n",
    "    \"is\": 5,\n",
    "    \"place\": 1,\n",
    "    \"find\": 1,\n",
    "    \"shape\": 6,\n",
    "    \"on\": 40,\n",
    "    \"kiss\": 1,\n",
    "    \"were\": 3,\n",
    "    \"night\": 3,\n",
    "    \"heart\": 3,\n",
    "    \"for\": 3,\n",
    "    \"discovering\": 6,\n",
    "    \"something\": 6,\n",
    "    \"be\": 16,\n",
    "    \"bedsheets\": 3,\n",
    "    \"fill\": 2,\n",
    "    \"hours\": 2,\n",
    "    \"stop\": 1,\n",
    "    \"bar\": 1,\n",
    "}\n",
    "\n",
    "sorted_tups = sorted(word_freq.items(), key=operator.itemgetter(1))\n",
    "\n",
    "word_freq2 = dict()\n",
    "\n",
    "for i in sorted_tups:\n",
    "    word_freq2[i[0]] = i[1]\n",
    "\n",
    "print(word_freq2)"
   ]
  }
 ],
 "metadata": {
  "kernelspec": {
   "display_name": "Python 3",
   "language": "python",
   "name": "python3"
  },
  "language_info": {
   "codemirror_mode": {
    "name": "ipython",
    "version": 3
   },
   "file_extension": ".py",
   "mimetype": "text/x-python",
   "name": "python",
   "nbconvert_exporter": "python",
   "pygments_lexer": "ipython3",
   "version": "3.13.3"
  }
 },
 "nbformat": 4,
 "nbformat_minor": 2
}
